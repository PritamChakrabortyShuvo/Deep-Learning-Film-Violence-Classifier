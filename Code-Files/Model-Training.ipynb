{
 "cells": [
  {
   "cell_type": "code",
   "execution_count": null,
   "metadata": {
    "vscode": {
     "languageId": "plaintext"
    }
   },
   "outputs": [],
   "source": [
    "early_stopping = EarlyStopping(monitor='val_loss', patience=5, restore_best_weights=True)\n",
    "model_checkpoint = ModelCheckpoint('/content/drive/MyDrive/inception_lstm_16_50.keras', monitor='val_accuracy', save_best_only=True, mode='max')\n",
    "\n",
    "history = model.fit(X_train, y_train,\n",
    "                     validation_data=(X_val, y_val),\n",
    "                     epochs=50,\n",
    "                     batch_size=16,\n",
    "                     callbacks=[early_stopping, model_checkpoint])\n",
    "with open('/content/drive/MyDrive/training_history_16_50.pkl', 'wb') as file:\n",
    "    pickle.dump(history.history, file)"
   ]
  }
 ],
 "metadata": {
  "language_info": {
   "name": "python"
  }
 },
 "nbformat": 4,
 "nbformat_minor": 2
}
